{
  "nbformat": 4,
  "nbformat_minor": 0,
  "metadata": {
    "colab": {
      "name": "Transfer+Learning+Callbacks+Tensorboard+Food_Vision_10_Percent.ipynb",
      "provenance": [],
      "collapsed_sections": [],
      "authorship_tag": "ABX9TyOI+yOo5YmFSdpgZXK0dxXz",
      "include_colab_link": true
    },
    "kernelspec": {
      "name": "python3",
      "display_name": "Python 3"
    },
    "language_info": {
      "name": "python"
    },
    "accelerator": "GPU"
  },
  "cells": [
    {
      "cell_type": "markdown",
      "metadata": {
        "id": "view-in-github",
        "colab_type": "text"
      },
      "source": [
        "<a href=\"https://colab.research.google.com/github/GadagiAmogh/Kaggle_Notebooks/blob/main/Transfer%2BLearning%2BCallbacks%2BTensorboard%2BFood_Vision_10_Percent.ipynb\" target=\"_parent\"><img src=\"https://colab.research.google.com/assets/colab-badge.svg\" alt=\"Open In Colab\"/></a>"
      ]
    },
    {
      "cell_type": "code",
      "execution_count": 1,
      "metadata": {
        "colab": {
          "base_uri": "https://localhost:8080/"
        },
        "id": "6rbQnAjVOjmc",
        "outputId": "314daed3-3fc2-4ee1-af6f-17bfff395f1e"
      },
      "outputs": [
        {
          "output_type": "stream",
          "name": "stdout",
          "text": [
            "Tue Apr 12 05:24:06 2022       \n",
            "+-----------------------------------------------------------------------------+\n",
            "| NVIDIA-SMI 460.32.03    Driver Version: 460.32.03    CUDA Version: 11.2     |\n",
            "|-------------------------------+----------------------+----------------------+\n",
            "| GPU  Name        Persistence-M| Bus-Id        Disp.A | Volatile Uncorr. ECC |\n",
            "| Fan  Temp  Perf  Pwr:Usage/Cap|         Memory-Usage | GPU-Util  Compute M. |\n",
            "|                               |                      |               MIG M. |\n",
            "|===============================+======================+======================|\n",
            "|   0  Tesla T4            Off  | 00000000:00:04.0 Off |                    0 |\n",
            "| N/A   47C    P8     9W /  70W |      0MiB / 15109MiB |      0%      Default |\n",
            "|                               |                      |                  N/A |\n",
            "+-------------------------------+----------------------+----------------------+\n",
            "                                                                               \n",
            "+-----------------------------------------------------------------------------+\n",
            "| Processes:                                                                  |\n",
            "|  GPU   GI   CI        PID   Type   Process name                  GPU Memory |\n",
            "|        ID   ID                                                   Usage      |\n",
            "|=============================================================================|\n",
            "|  No running processes found                                                 |\n",
            "+-----------------------------------------------------------------------------+\n"
          ]
        }
      ],
      "source": [
        "!nvidia-smi"
      ]
    },
    {
      "cell_type": "code",
      "source": [
        "# Download and becoming one with the data\n",
        "\n",
        "!wget https://storage.googleapis.com/ztm_tf_course/food_vision/10_food_classes_10_percent.zip"
      ],
      "metadata": {
        "colab": {
          "base_uri": "https://localhost:8080/"
        },
        "id": "CxP2LN39Op7L",
        "outputId": "40adc99a-5d1f-43e6-d79a-c5a08bffeda3"
      },
      "execution_count": 5,
      "outputs": [
        {
          "output_type": "stream",
          "name": "stdout",
          "text": [
            "--2022-04-12 05:31:34--  https://storage.googleapis.com/ztm_tf_course/food_vision/10_food_classes_10_percent.zip\n",
            "Resolving storage.googleapis.com (storage.googleapis.com)... 172.217.194.128, 74.125.200.128, 74.125.68.128, ...\n",
            "Connecting to storage.googleapis.com (storage.googleapis.com)|172.217.194.128|:443... connected.\n",
            "HTTP request sent, awaiting response... 200 OK\n",
            "Length: 168546183 (161M) [application/zip]\n",
            "Saving to: ‘10_food_classes_10_percent.zip’\n",
            "\n",
            "10_food_classes_10_ 100%[===================>] 160.74M  35.7MB/s    in 4.5s    \n",
            "\n",
            "2022-04-12 05:31:40 (35.7 MB/s) - ‘10_food_classes_10_percent.zip’ saved [168546183/168546183]\n",
            "\n"
          ]
        }
      ]
    },
    {
      "cell_type": "code",
      "source": [
        "#Unzip\n",
        "import zipfile\n",
        "zip_ref = zipfile.ZipFile('10_food_classes_10_percent.zip')\n",
        "zip_ref.extractall()\n",
        "zip_ref.close()"
      ],
      "metadata": {
        "id": "EHcj76TsPde5"
      },
      "execution_count": 7,
      "outputs": []
    },
    {
      "cell_type": "code",
      "source": [
        "# How many image in each folder folder.\n",
        "# Walk through the data and list number of files\n",
        "import os\n",
        "for dirpath, dirnames, filenames in os.walk('10_food_classes_10_percent'):\n",
        "  print(f'There are {len(dirnames)} directories and {len(filenames)} images in {dirpath}.')"
      ],
      "metadata": {
        "colab": {
          "base_uri": "https://localhost:8080/"
        },
        "id": "u2S6UgCQPxpa",
        "outputId": "1866cca2-d007-47ba-cabe-7b938df7ca8e"
      },
      "execution_count": 10,
      "outputs": [
        {
          "output_type": "stream",
          "name": "stdout",
          "text": [
            "There are 2 directories and 0 images in 10_food_classes_10_percent.\n",
            "There are 10 directories and 0 images in 10_food_classes_10_percent/test.\n",
            "There are 0 directories and 250 images in 10_food_classes_10_percent/test/hamburger.\n",
            "There are 0 directories and 250 images in 10_food_classes_10_percent/test/ice_cream.\n",
            "There are 0 directories and 250 images in 10_food_classes_10_percent/test/ramen.\n",
            "There are 0 directories and 250 images in 10_food_classes_10_percent/test/grilled_salmon.\n",
            "There are 0 directories and 250 images in 10_food_classes_10_percent/test/pizza.\n",
            "There are 0 directories and 250 images in 10_food_classes_10_percent/test/chicken_wings.\n",
            "There are 0 directories and 250 images in 10_food_classes_10_percent/test/chicken_curry.\n",
            "There are 0 directories and 250 images in 10_food_classes_10_percent/test/steak.\n",
            "There are 0 directories and 250 images in 10_food_classes_10_percent/test/fried_rice.\n",
            "There are 0 directories and 250 images in 10_food_classes_10_percent/test/sushi.\n",
            "There are 10 directories and 0 images in 10_food_classes_10_percent/train.\n",
            "There are 0 directories and 75 images in 10_food_classes_10_percent/train/hamburger.\n",
            "There are 0 directories and 75 images in 10_food_classes_10_percent/train/ice_cream.\n",
            "There are 0 directories and 75 images in 10_food_classes_10_percent/train/ramen.\n",
            "There are 0 directories and 75 images in 10_food_classes_10_percent/train/grilled_salmon.\n",
            "There are 0 directories and 75 images in 10_food_classes_10_percent/train/pizza.\n",
            "There are 0 directories and 75 images in 10_food_classes_10_percent/train/chicken_wings.\n",
            "There are 0 directories and 75 images in 10_food_classes_10_percent/train/chicken_curry.\n",
            "There are 0 directories and 75 images in 10_food_classes_10_percent/train/steak.\n",
            "There are 0 directories and 75 images in 10_food_classes_10_percent/train/fried_rice.\n",
            "There are 0 directories and 75 images in 10_food_classes_10_percent/train/sushi.\n"
          ]
        }
      ]
    },
    {
      "cell_type": "code",
      "source": [
        "# setup data imput\n",
        "from tensorflow.keras.preprocessing.image import ImageDataGenerator\n",
        "\n",
        "IMAGE_SIZE = (224, 224)\n",
        "BATCH_SIZE =32\n",
        "EPOCHS = 15\n",
        "\n",
        "train_dir = '/content/10_food_classes_10_percent/train'\n",
        "test_dir = '/content/10_food_classes_10_percent/test'\n",
        "\n",
        "train_data_gen = ImageDataGenerator(rescale =1/255.)\n",
        "test_data_gen = ImageDataGenerator(rescale =1/255.)\n",
        "\n",
        "train_data_10_percent = train_data_gen.flow_from_directory(train_dir, \n",
        "                                                           target_size = IMAGE_SIZE,\n",
        "                                                           batch_size= BATCH_SIZE,\n",
        "                                                           class_mode = 'categorical')\n",
        "\n",
        "\n",
        "test_data_10_percent = test_data_gen.flow_from_directory(test_dir,\n",
        "                                                         target_size = IMAGE_SIZE,\n",
        "                                                         batch_size= BATCH_SIZE,\n",
        "                                                         class_mode = 'categorical')\n"
      ],
      "metadata": {
        "colab": {
          "base_uri": "https://localhost:8080/"
        },
        "id": "Wismg5UURVZ_",
        "outputId": "714c0abd-917e-428c-dced-87594de1587b"
      },
      "execution_count": 13,
      "outputs": [
        {
          "output_type": "stream",
          "name": "stdout",
          "text": [
            "Found 750 images belonging to 10 classes.\n",
            "Found 2500 images belonging to 10 classes.\n"
          ]
        }
      ]
    },
    {
      "cell_type": "markdown",
      "source": [
        "## Setting up callbacks\n",
        "\n",
        "-Utilites called at certain time during training"
      ],
      "metadata": {
        "id": "v8taCm0-TtDW"
      }
    },
    {
      "cell_type": "code",
      "source": [
        "# Create tensorboard callback\n",
        "import datetime\n",
        "\n",
        "def create_tensorboard_callback(dir_name, experiment_name):\n",
        "  log_dir = dir_name+ '/' + experiment_name + datetime.datetime.now().strftime('%Y%m%d-%H%M%S')\n",
        "  tensorboard_callback = tf.keras.callbacks.TensorBoard(log_dir=log_dir)\n",
        "  print(f'Saving tensorboard log files to : {log_dir}')\n",
        "  return tensorboard_callback"
      ],
      "metadata": {
        "id": "uZ4s4h4dTu1t"
      },
      "execution_count": 34,
      "outputs": []
    },
    {
      "cell_type": "markdown",
      "source": [
        "# Creating models using Tensorflow Hub"
      ],
      "metadata": {
        "id": "w3TjQqrEWCTz"
      }
    },
    {
      "cell_type": "code",
      "source": [
        "! pip install tensorflow_hub"
      ],
      "metadata": {
        "colab": {
          "base_uri": "https://localhost:8080/"
        },
        "id": "RKRF4KvNV7lx",
        "outputId": "20672863-c90a-4e50-dd99-65e3ec03e554"
      },
      "execution_count": 16,
      "outputs": [
        {
          "output_type": "stream",
          "name": "stdout",
          "text": [
            "Requirement already satisfied: tensorflow_hub in /usr/local/lib/python3.7/dist-packages (0.12.0)\n",
            "Requirement already satisfied: protobuf>=3.8.0 in /usr/local/lib/python3.7/dist-packages (from tensorflow_hub) (3.17.3)\n",
            "Requirement already satisfied: numpy>=1.12.0 in /usr/local/lib/python3.7/dist-packages (from tensorflow_hub) (1.21.5)\n",
            "Requirement already satisfied: six>=1.9 in /usr/local/lib/python3.7/dist-packages (from protobuf>=3.8.0->tensorflow_hub) (1.15.0)\n"
          ]
        }
      ]
    },
    {
      "cell_type": "code",
      "source": [
        "import tensorflow_hub as hub\n",
        "import tensorflow as tf\n",
        "from tensorflow.keras import layers"
      ],
      "metadata": {
        "id": "vemotFguWMY3"
      },
      "execution_count": 23,
      "outputs": []
    },
    {
      "cell_type": "code",
      "source": [
        "## Browing the tensorflow hub page and browsing through different models we import the efficient net model"
      ],
      "metadata": {
        "id": "HutbKhMuWUcB"
      },
      "execution_count": 22,
      "outputs": []
    },
    {
      "cell_type": "code",
      "source": [
        "# Resnet 50 V2 feature vector\n",
        "resnet_url = \"https://tfhub.dev/google/imagenet/resnet_v2_50/feature_vector/4\"\n",
        "\n",
        "# Original: EfficientNetB0 feature vector (version 1)\n",
        "efficientnet_url = \"https://tfhub.dev/tensorflow/efficientnet/b0/feature-vector/1\"\n",
        "\n",
        "# # New: EfficientNetB0 feature vector (version 2)\n",
        "# efficientnet_url = \"https://tfhub.dev/google/imagenet/efficientnet_v2_imagenet1k_b0/feature_vector/2\""
      ],
      "metadata": {
        "id": "Yz776edwYDiP"
      },
      "execution_count": 20,
      "outputs": []
    },
    {
      "cell_type": "code",
      "source": [
        "from keras.layers.core.activation import Activation\n",
        "# lets creat a \n",
        "def create_model(model_url, num_classes=10):\n",
        "  feature_extractor_layer = hub.KerasLayer(model_url,\n",
        "                                           trainable=False,\n",
        "                                           name='Feature_extraction_layer',\n",
        "                                           input_shape = IMAGE_SIZE +(3,))\n",
        "  \n",
        "  #create our model\n",
        "\n",
        "  model = tf.keras.Sequential([\n",
        "                               feature_extractor_layer,\n",
        "                               layers.Dense(num_classes, activation = 'softmax', name='output_layer')\n",
        "  ])\n",
        "  \n",
        "  return model"
      ],
      "metadata": {
        "id": "3al5FSnxZVjS"
      },
      "execution_count": 26,
      "outputs": []
    },
    {
      "cell_type": "markdown",
      "source": [
        "#Creating and Testing RESNET model from tensorflow hub"
      ],
      "metadata": {
        "id": "OvNKozs2bcOf"
      }
    },
    {
      "cell_type": "code",
      "source": [
        "resnet_model = create_model(resnet_url,\n",
        "                            num_classes = train_data_10_percent.num_classes)"
      ],
      "metadata": {
        "id": "RYKeIkjXbdjY"
      },
      "execution_count": 27,
      "outputs": []
    },
    {
      "cell_type": "code",
      "source": [
        "resnet_model.summary()"
      ],
      "metadata": {
        "colab": {
          "base_uri": "https://localhost:8080/"
        },
        "id": "wmd-LjrlcJc4",
        "outputId": "c61a7549-8727-4826-a42d-453bd1a761e4"
      },
      "execution_count": 28,
      "outputs": [
        {
          "output_type": "stream",
          "name": "stdout",
          "text": [
            "Model: \"sequential\"\n",
            "_________________________________________________________________\n",
            " Layer (type)                Output Shape              Param #   \n",
            "=================================================================\n",
            " Feature_extraction_layer (K  (None, 2048)             23564800  \n",
            " erasLayer)                                                      \n",
            "                                                                 \n",
            " output_layer (Dense)        (None, 10)                20490     \n",
            "                                                                 \n",
            "=================================================================\n",
            "Total params: 23,585,290\n",
            "Trainable params: 20,490\n",
            "Non-trainable params: 23,564,800\n",
            "_________________________________________________________________\n"
          ]
        }
      ]
    },
    {
      "cell_type": "code",
      "source": [
        "resnet_model.compile(optimizer ='adam', loss='categorical_crossentropy', metrics=['accuracy'])"
      ],
      "metadata": {
        "id": "NjXHBZPIcXKU"
      },
      "execution_count": 29,
      "outputs": []
    },
    {
      "cell_type": "code",
      "source": [
        "hist1= resnet_model.fit(train_data_10_percent, epochs =5, steps_per_epoch=len(train_data_10_percent),\n",
        "                        validation_data= test_data_10_percent, validation_steps= len(test_data_10_percent),\n",
        "                        callbacks =[create_tensorboard_callback(dir_name= 'tensorflow_hub', experiment_name='resnet50v2')])"
      ],
      "metadata": {
        "colab": {
          "base_uri": "https://localhost:8080/"
        },
        "id": "1jArzcN4cvIT",
        "outputId": "7edbdf0d-f07b-4ac5-9efb-54940d195472"
      },
      "execution_count": 35,
      "outputs": [
        {
          "output_type": "stream",
          "name": "stdout",
          "text": [
            "Saving tensorboard log files to : tensorflow_hub/resnet50v220220412-063228\n",
            "Epoch 1/5\n",
            "24/24 [==============================] - 31s 751ms/step - loss: 1.7322 - accuracy: 0.4280 - val_loss: 1.1482 - val_accuracy: 0.6124\n",
            "Epoch 2/5\n",
            "24/24 [==============================] - 16s 673ms/step - loss: 0.8536 - accuracy: 0.7373 - val_loss: 0.8338 - val_accuracy: 0.7324\n",
            "Epoch 3/5\n",
            "24/24 [==============================] - 16s 676ms/step - loss: 0.6039 - accuracy: 0.8373 - val_loss: 0.7361 - val_accuracy: 0.7632\n",
            "Epoch 4/5\n",
            "24/24 [==============================] - 16s 675ms/step - loss: 0.4654 - accuracy: 0.8800 - val_loss: 0.7088 - val_accuracy: 0.7660\n",
            "Epoch 5/5\n",
            "24/24 [==============================] - 16s 673ms/step - loss: 0.3713 - accuracy: 0.9107 - val_loss: 0.6679 - val_accuracy: 0.7856\n"
          ]
        }
      ]
    },
    {
      "cell_type": "code",
      "source": [
        "#plot validation and training curve seperately\n",
        "import matplotlib.pyplot as plt\n",
        "def plot_loss_curve(history):\n",
        "  \"\"\"\n",
        "  Returns seperate loss curves for the metrics\n",
        "  \"\"\"\n",
        "  train_loss = history.history['loss']\n",
        "  val_loss = history.history['val_loss']\n",
        "\n",
        "  accuracy = history.history['accuracy']\n",
        "  val_accuracy = history.history['val_accuracy']\n",
        "\n",
        "  epochs = range(len(history.history['loss']))\n",
        "\n",
        "  #plot losses\n",
        "  plt.plot(epochs, train_loss, label= 'Training loss')\n",
        "  plt.plot(epochs, val_loss, label='Validation loss')\n",
        "  plt.legend()\n",
        "  plt.xlabel('Epochs')\n",
        "  plt.ylabel('Loss')\n",
        "  # plot accuracy\n",
        "  plt.figure()\n",
        "  plt.plot(epochs, accuracy, label= 'Training accuracy')\n",
        "  plt.plot(epochs, val_accuracy, label='Validation accuracy')\n",
        "  plt.legend()\n",
        "  plt.xlabel('Epochs')\n",
        "  plt.ylabel('Accuracy')\n"
      ],
      "metadata": {
        "id": "7ubQQls3dm49"
      },
      "execution_count": 36,
      "outputs": []
    },
    {
      "cell_type": "code",
      "source": [
        "plot_loss_curve(hist1)"
      ],
      "metadata": {
        "colab": {
          "base_uri": "https://localhost:8080/",
          "height": 545
        },
        "id": "Kz7S01sAhnUZ",
        "outputId": "4e4cee6f-9fb5-427b-f256-50c083a0cc6a"
      },
      "execution_count": 37,
      "outputs": [
        {
          "output_type": "display_data",
          "data": {
            "text/plain": [
              "<Figure size 432x288 with 1 Axes>"
            ],
            "image/png": "[encoded data removed]"
          },
          "metadata": {
            "needs_background": "light"
          }
        },
        {
          "output_type": "display_data",
          "data": {
            "text/plain": [
              "<Figure size 432x288 with 1 Axes>"
            ],
            "image/png": "[encoded data removed]"
          },
          "metadata": {
            "needs_background": "light"
          }
        }
      ]
    },
    {
      "cell_type": "markdown",
      "source": [
        "#Creating and Testing Efficient Net model from tensorflow hub"
      ],
      "metadata": {
        "id": "0RKrbqIhh-Ua"
      }
    },
    {
      "cell_type": "code",
      "source": [
        "efficientnet_model = create_model(efficientnet_url,\n",
        "                            num_classes = train_data_10_percent.num_classes)"
      ],
      "metadata": {
        "id": "ckkjlGBph84K"
      },
      "execution_count": 38,
      "outputs": []
    },
    {
      "cell_type": "code",
      "source": [
        "efficientnet_model.summary()"
      ],
      "metadata": {
        "colab": {
          "base_uri": "https://localhost:8080/"
        },
        "id": "76P6kS-VhrEE",
        "outputId": "eca25a36-c6f4-44a8-93a0-3d3f1295eb02"
      },
      "execution_count": 40,
      "outputs": [
        {
          "output_type": "stream",
          "name": "stdout",
          "text": [
            "Model: \"sequential_1\"\n",
            "_________________________________________________________________\n",
            " Layer (type)                Output Shape              Param #   \n",
            "=================================================================\n",
            " Feature_extraction_layer (K  (None, 1280)             4049564   \n",
            " erasLayer)                                                      \n",
            "                                                                 \n",
            " output_layer (Dense)        (None, 10)                12810     \n",
            "                                                                 \n",
            "=================================================================\n",
            "Total params: 4,062,374\n",
            "Trainable params: 12,810\n",
            "Non-trainable params: 4,049,564\n",
            "_________________________________________________________________\n"
          ]
        }
      ]
    },
    {
      "cell_type": "code",
      "source": [
        "efficientnet_model.compile(optimizer ='adam', loss='categorical_crossentropy', metrics=['accuracy'])"
      ],
      "metadata": {
        "id": "-ISKbq58iK2U"
      },
      "execution_count": 41,
      "outputs": []
    },
    {
      "cell_type": "code",
      "source": [
        "hist2= efficientnet_model.fit(train_data_10_percent, epochs =5, steps_per_epoch=len(train_data_10_percent),\n",
        "                        validation_data= test_data_10_percent, validation_steps= len(test_data_10_percent),\n",
        "                        callbacks =[create_tensorboard_callback(dir_name= 'tensorflow_hub', experiment_name='EfficientNetB0')])"
      ],
      "metadata": {
        "colab": {
          "base_uri": "https://localhost:8080/"
        },
        "id": "Td0R2IFliPpz",
        "outputId": "123f4961-70c8-471b-be8f-223271c297b5"
      },
      "execution_count": 42,
      "outputs": [
        {
          "output_type": "stream",
          "name": "stdout",
          "text": [
            "Saving tensorboard log files to : tensorflow_hub/EfficientNetB020220412-065139\n",
            "Epoch 1/5\n",
            "24/24 [==============================] - 26s 733ms/step - loss: 1.7396 - accuracy: 0.5053 - val_loss: 1.2243 - val_accuracy: 0.7656\n",
            "Epoch 2/5\n",
            "24/24 [==============================] - 16s 669ms/step - loss: 1.0108 - accuracy: 0.7827 - val_loss: 0.8279 - val_accuracy: 0.8316\n",
            "Epoch 3/5\n",
            "24/24 [==============================] - 15s 663ms/step - loss: 0.7304 - accuracy: 0.8320 - val_loss: 0.6745 - val_accuracy: 0.8520\n",
            "Epoch 4/5\n",
            "24/24 [==============================] - 15s 659ms/step - loss: 0.5947 - accuracy: 0.8640 - val_loss: 0.5992 - val_accuracy: 0.8568\n",
            "Epoch 5/5\n",
            "24/24 [==============================] - 15s 663ms/step - loss: 0.5036 - accuracy: 0.8787 - val_loss: 0.5429 - val_accuracy: 0.8672\n"
          ]
        }
      ]
    },
    {
      "cell_type": "code",
      "source": [
        "plot_loss_curve(hist2)"
      ],
      "metadata": {
        "colab": {
          "base_uri": "https://localhost:8080/",
          "height": 545
        },
        "id": "rsKCVzxiisXo",
        "outputId": "423b538e-3351-413c-a176-6caf2a19cc59"
      },
      "execution_count": 43,
      "outputs": [
        {
          "output_type": "display_data",
          "data": {
            "text/plain": [
              "<Figure size 432x288 with 1 Axes>"
            ],
            "image/png": "[encoded data removed]"
          },
          "metadata": {
            "needs_background": "light"
          }
        },
        {
          "output_type": "display_data",
          "data": {
            "text/plain": [
              "<Figure size 432x288 with 1 Axes>"
            ],
            "image/png": "[encoded data removed]"
          },
          "metadata": {
            "needs_background": "light"
          }
        }
      ]
    },
    {
      "cell_type": "code",
      "source": [
        "efficientnet_b7_url = \"https://tfhub.dev/google/efficientnet/b7/classification/1\""
      ],
      "metadata": {
        "id": "GXDHAhoUjGQ1"
      },
      "execution_count": 44,
      "outputs": []
    },
    {
      "cell_type": "code",
      "source": [
        "efficientnet_b7_model = create_model(efficientnet_b7_url,\n",
        "                            num_classes = train_data_10_percent.num_classes)"
      ],
      "metadata": {
        "id": "tIogh2DlkjE0"
      },
      "execution_count": 45,
      "outputs": []
    },
    {
      "cell_type": "code",
      "source": [
        "efficientnet_b7_model.summary()"
      ],
      "metadata": {
        "colab": {
          "base_uri": "https://localhost:8080/"
        },
        "id": "oVONGtifktFL",
        "outputId": "51dc9ed8-164e-4ef5-98c3-ef5123b31cdb"
      },
      "execution_count": 46,
      "outputs": [
        {
          "output_type": "stream",
          "name": "stdout",
          "text": [
            "Model: \"sequential_2\"\n",
            "_________________________________________________________________\n",
            " Layer (type)                Output Shape              Param #   \n",
            "=================================================================\n",
            " Feature_extraction_layer (K  (None, 1000)             66658680  \n",
            " erasLayer)                                                      \n",
            "                                                                 \n",
            " output_layer (Dense)        (None, 10)                10010     \n",
            "                                                                 \n",
            "=================================================================\n",
            "Total params: 66,668,690\n",
            "Trainable params: 10,010\n",
            "Non-trainable params: 66,658,680\n",
            "_________________________________________________________________\n"
          ]
        }
      ]
    },
    {
      "cell_type": "code",
      "source": [
        "efficientnet_b7_model.compile(optimizer ='adam', loss='categorical_crossentropy', metrics=['accuracy'])"
      ],
      "metadata": {
        "id": "oE0cmgt8k9Ve"
      },
      "execution_count": 48,
      "outputs": []
    },
    {
      "cell_type": "code",
      "source": [
        "hist3= efficientnet_b7_model.fit(train_data_10_percent, epochs =10, steps_per_epoch=len(train_data_10_percent),\n",
        "                        validation_data= test_data_10_percent, validation_steps= len(test_data_10_percent),\n",
        "                        callbacks =[create_tensorboard_callback(dir_name= 'tensorflow_hub', experiment_name='EfficientNetB7')])"
      ],
      "metadata": {
        "colab": {
          "base_uri": "https://localhost:8080/"
        },
        "id": "cwiUyOkUkwgs",
        "outputId": "4ff66d79-de0e-4893-a600-7044b6dc1f09"
      },
      "execution_count": 49,
      "outputs": [
        {
          "output_type": "stream",
          "name": "stdout",
          "text": [
            "Saving tensorboard log files to : tensorflow_hub/EfficientNetB720220412-070141\n",
            "Epoch 1/10\n",
            "24/24 [==============================] - 64s 2s/step - loss: 1.7050 - accuracy: 0.4253 - val_loss: 0.9143 - val_accuracy: 0.7084\n",
            "Epoch 2/10\n",
            "24/24 [==============================] - 36s 2s/step - loss: 0.7137 - accuracy: 0.7693 - val_loss: 0.6380 - val_accuracy: 0.7988\n",
            "Epoch 3/10\n",
            "24/24 [==============================] - 36s 2s/step - loss: 0.5154 - accuracy: 0.8453 - val_loss: 0.5766 - val_accuracy: 0.8112\n",
            "Epoch 4/10\n",
            "24/24 [==============================] - 35s 2s/step - loss: 0.4093 - accuracy: 0.8907 - val_loss: 0.5242 - val_accuracy: 0.8376\n",
            "Epoch 5/10\n",
            "24/24 [==============================] - 36s 2s/step - loss: 0.3396 - accuracy: 0.9120 - val_loss: 0.5122 - val_accuracy: 0.8348\n",
            "Epoch 6/10\n",
            "24/24 [==============================] - 36s 2s/step - loss: 0.2957 - accuracy: 0.9400 - val_loss: 0.5007 - val_accuracy: 0.8352\n",
            "Epoch 7/10\n",
            "24/24 [==============================] - 36s 2s/step - loss: 0.2536 - accuracy: 0.9467 - val_loss: 0.4837 - val_accuracy: 0.8432\n",
            "Epoch 8/10\n",
            "24/24 [==============================] - 36s 2s/step - loss: 0.2259 - accuracy: 0.9613 - val_loss: 0.4835 - val_accuracy: 0.8392\n",
            "Epoch 9/10\n",
            "24/24 [==============================] - 36s 2s/step - loss: 0.1982 - accuracy: 0.9653 - val_loss: 0.4734 - val_accuracy: 0.8368\n",
            "Epoch 10/10\n",
            "24/24 [==============================] - 36s 2s/step - loss: 0.1817 - accuracy: 0.9707 - val_loss: 0.4845 - val_accuracy: 0.8404\n"
          ]
        }
      ]
    },
    {
      "cell_type": "code",
      "source": [
        "google_inception_url = \"https://tfhub.dev/google/imagenet/inception_v3/feature_vector/5\""
      ],
      "metadata": {
        "id": "rybhZ2n4k556"
      },
      "execution_count": 50,
      "outputs": []
    },
    {
      "cell_type": "code",
      "source": [
        "google_inception_v3 = create_model(google_inception_url,\n",
        "                            num_classes = train_data_10_percent.num_classes)"
      ],
      "metadata": {
        "id": "0AThWJWxoGhi"
      },
      "execution_count": 51,
      "outputs": []
    },
    {
      "cell_type": "code",
      "source": [
        "google_inception_v3.summary()"
      ],
      "metadata": {
        "colab": {
          "base_uri": "https://localhost:8080/"
        },
        "id": "P5EyWcrnoLIh",
        "outputId": "4ddfde8d-a442-4a68-d728-fdb7b34df946"
      },
      "execution_count": 53,
      "outputs": [
        {
          "output_type": "stream",
          "name": "stdout",
          "text": [
            "Model: \"sequential_3\"\n",
            "_________________________________________________________________\n",
            " Layer (type)                Output Shape              Param #   \n",
            "=================================================================\n",
            " Feature_extraction_layer (K  (None, 2048)             21802784  \n",
            " erasLayer)                                                      \n",
            "                                                                 \n",
            " output_layer (Dense)        (None, 10)                20490     \n",
            "                                                                 \n",
            "=================================================================\n",
            "Total params: 21,823,274\n",
            "Trainable params: 20,490\n",
            "Non-trainable params: 21,802,784\n",
            "_________________________________________________________________\n"
          ]
        }
      ]
    },
    {
      "cell_type": "code",
      "source": [
        "google_inception_v3.compile(optimizer ='adam', loss='categorical_crossentropy', metrics=['accuracy'])"
      ],
      "metadata": {
        "id": "67xs-4OXoNNw"
      },
      "execution_count": 54,
      "outputs": []
    },
    {
      "cell_type": "code",
      "source": [
        "hist4= google_inception_v3.fit(train_data_10_percent, epochs =5, steps_per_epoch=len(train_data_10_percent),\n",
        "                        validation_data= test_data_10_percent, validation_steps= len(test_data_10_percent),\n",
        "                        callbacks =[create_tensorboard_callback(dir_name= 'tensorflow_hub', experiment_name='Google_Inception_V3')])"
      ],
      "metadata": {
        "colab": {
          "base_uri": "https://localhost:8080/"
        },
        "id": "1vtlL4vvoT_7",
        "outputId": "28a075d6-42db-46d2-b436-39d80fdb2fd0"
      },
      "execution_count": 56,
      "outputs": [
        {
          "output_type": "stream",
          "name": "stdout",
          "text": [
            "Saving tensorboard log files to : tensorflow_hub/Google_Inception_V320220412-071656\n",
            "Epoch 1/5\n",
            "24/24 [==============================] - 18s 769ms/step - loss: 1.7731 - accuracy: 0.4093 - val_loss: 1.0109 - val_accuracy: 0.6736\n",
            "Epoch 2/5\n",
            "24/24 [==============================] - 15s 664ms/step - loss: 0.9077 - accuracy: 0.7187 - val_loss: 0.8212 - val_accuracy: 0.7272\n",
            "Epoch 3/5\n",
            "24/24 [==============================] - 16s 666ms/step - loss: 0.7173 - accuracy: 0.7827 - val_loss: 0.7699 - val_accuracy: 0.7348\n",
            "Epoch 4/5\n",
            "24/24 [==============================] - 16s 695ms/step - loss: 0.6094 - accuracy: 0.8000 - val_loss: 0.7349 - val_accuracy: 0.7476\n",
            "Epoch 5/5\n",
            "24/24 [==============================] - 15s 664ms/step - loss: 0.4738 - accuracy: 0.8547 - val_loss: 0.6674 - val_accuracy: 0.7800\n"
          ]
        }
      ]
    },
    {
      "cell_type": "code",
      "source": [
        "plot_loss_curve(hist4)"
      ],
      "metadata": {
        "colab": {
          "base_uri": "https://localhost:8080/",
          "height": 541
        },
        "id": "FVyrChVoocuv",
        "outputId": "772e382e-2fb4-45b6-e43b-c668bb602ce5"
      },
      "execution_count": 57,
      "outputs": [
        {
          "output_type": "display_data",
          "data": {
            "text/plain": [
              "<Figure size 432x288 with 1 Axes>"
            ],
            "image/png": "[encoded data removed]"
          },
          "metadata": {
            "needs_background": "light"
          }
        },
        {
          "output_type": "display_data",
          "data": {
            "text/plain": [
              "<Figure size 432x288 with 1 Axes>"
            ],
            "image/png": "[encoded data removed]"
          },
          "metadata": {
            "needs_background": "light"
          }
        }
      ]
    },
    {
      "cell_type": "markdown",
      "source": [
        "## Comparing our models results using TensorBoard"
      ],
      "metadata": {
        "id": "6enGpRevq8jM"
      }
    },
    {
      "cell_type": "code",
      "source": [
        "!tensorboard dev upload --logdir ./tensorflow_hub/ \\\n",
        "  --name \"EfficientNetB0 vs. ResNet50V2 vs ResNet50B7 vs Google_Inception_V3\" \\\n",
        "  --description \"Comparing different TF Hub feature extraction models architectures using 10% of training images\" \\\n",
        "  --one_shot"
      ],
      "metadata": {
        "colab": {
          "base_uri": "https://localhost:8080/"
        },
        "id": "XPGfa6tor2bi",
        "outputId": "f07aaeb4-f864-43e1-d0a3-3ac1cf3a30c0"
      },
      "execution_count": 65,
      "outputs": [
        {
          "output_type": "stream",
          "name": "stdout",
          "text": [
            "\n",
            "***** TensorBoard Uploader *****\n",
            "\n",
            "This will upload your TensorBoard logs to https://tensorboard.dev/ from\n",
            "the following directory:\n",
            "\n",
            "./tensorflow_hub/\n",
            "\n",
            "This TensorBoard will be visible to everyone. Do not upload sensitive\n",
            "data.\n",
            "\n",
            "Your use of this service is subject to Google's Terms of Service\n",
            "<https://policies.google.com/terms> and Privacy Policy\n",
            "<https://policies.google.com/privacy>, and TensorBoard.dev's Terms of Service\n",
            "<https://tensorboard.dev/policy/terms/>.\n",
            "\n",
            "This notice will not be shown again while you are logged into the uploader.\n",
            "To log out, run `tensorboard dev auth revoke`.\n",
            "\n",
            "Continue? (yes/NO) yes\n",
            "\n",
            "Please visit this URL to authorize this application: https://accounts.google.com/o/oauth2/auth?response_type=code&client_id=373649185512-8v619h5kft38l4456nm2dj4ubeqsrvh6.apps.googleusercontent.com&redirect_uri=urn%3Aietf%3Awg%3Aoauth%3A2.0%3Aoob&scope=openid+https%3A%2F%2Fwww.googleapis.com%2Fauth%2Fuserinfo.email&state=s2a3CZeLiGGwso8sNSFuAUNuilATmo&prompt=consent&access_type=offline\n",
            "Enter the authorization code: 4/1AX4XfWjlbVoFAMGGDDozVsDrB4hZnUwQHc6QmYC-KAQtPrGiF2bSf4UJKG0\n",
            "\n",
            "\n",
            "New experiment created. View your TensorBoard at: https://tensorboard.dev/experiment/tYoy6fYPT1ij88KZ0vuMIQ/\n",
            "\n",
            "\u001b[1m[2022-04-12T07:35:58]\u001b[0m Started scanning logdir.\n",
            "\u001b[1m[2022-04-12T07:36:08]\u001b[0m Total uploaded: 150 scalars, 0 tensors, 4 binary objects (13.0 MB)\n",
            "\u001b[1m[2022-04-12T07:36:08]\u001b[0m Done scanning logdir.\n",
            "\n",
            "\n",
            "Done. View your TensorBoard at https://tensorboard.dev/experiment/tYoy6fYPT1ij88KZ0vuMIQ/\n"
          ]
        }
      ]
    },
    {
      "cell_type": "markdown",
      "source": [
        "Follow the link above to check out the graph"
      ],
      "metadata": {
        "id": "yb40kqkRtApD"
      }
    },
    {
      "cell_type": "code",
      "source": [
        "# Check experiments you have on Tensorboard\n",
        "\n",
        "! tensorboard dev list"
      ],
      "metadata": {
        "colab": {
          "base_uri": "https://localhost:8080/"
        },
        "id": "B6TZKJUAsi_8",
        "outputId": "b99dfbef-6327-4de5-925c-f32ba2c890a2"
      },
      "execution_count": 66,
      "outputs": [
        {
          "output_type": "stream",
          "name": "stdout",
          "text": [
            "https://tensorboard.dev/experiment/tYoy6fYPT1ij88KZ0vuMIQ/\n",
            "\tName                 EfficientNetB0 vs. ResNet50V2 vs ResNet50B7 vs Google_Inception_V3\n",
            "\tDescription          Comparing different TF Hub feature extraction models architectures using 10% of training images\n",
            "\tId                   tYoy6fYPT1ij88KZ0vuMIQ\n",
            "\tCreated              2022-04-12 07:35:58 (4 minutes ago)\n",
            "\tUpdated              2022-04-12 07:36:08 (4 minutes ago)\n",
            "\tRuns                 8\n",
            "\tTags                 5\n",
            "\tScalars              150\n",
            "\tTensor bytes         0\n",
            "\tBinary object bytes  13579853\n",
            "Total: 1 experiment(s)\n"
          ]
        }
      ]
    },
    {
      "cell_type": "code",
      "source": [
        "# Delete with this code\n",
        "\n",
        "# ! tensorboard dev delete --experiment_id tYoy6fYPT1ij88KZ0vuMIQ"
      ],
      "metadata": {
        "id": "7oq-4thft0P3"
      },
      "execution_count": null,
      "outputs": []
    }
  ]
}